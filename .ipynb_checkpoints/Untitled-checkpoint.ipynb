{
 "cells": [
  {
   "cell_type": "code",
   "execution_count": 4,
   "id": "9fee2ae4",
   "metadata": {},
   "outputs": [],
   "source": [
    "from itca import bidict\n",
    "true_combination = bidict({0:0, 1:1, 2:2, 3:2})  \n",
    "import numpy as np\n",
    "from itca.simulator import SimLDA\n",
    "np.random.seed(2023)\n",
    "centriods = np.array([[1, 0, 0], [1, 0, -1], [0, 0.5, 0]])\n",
    "A = np.random.randn(3, 3)\n",
    "covariance = np.eye(3) + A @ A.T\n",
    "sim_lda = SimLDA(centriods, covariance)\n",
    "sim_data = sim_lda.gen(900)\n",
    "y_observed = true_combination.reverse_map(sim_data.y)"
   ]
  },
  {
   "cell_type": "code",
   "execution_count": 5,
   "id": "1acd2091",
   "metadata": {},
   "outputs": [
    {
     "name": "stdout",
     "output_type": "stream",
     "text": [
      "ITCA score:  0.8566366026170151\n",
      "Accuracy score:  0.6944444444444444\n"
     ]
    }
   ],
   "source": [
    "from itca import itca\n",
    "from sklearn.model_selection import train_test_split\n",
    "from sklearn.discriminant_analysis import LinearDiscriminantAnalysis\n",
    "X_train, X_test, y_train, y_test = train_test_split(sim_data.X, \n",
    "y_observed, test_size=0.2, random_state=2023)\n",
    "no_combination = bidict({0:0, 1:1, 2:2, 3:3})\n",
    "clf = LinearDiscriminantAnalysis()\n",
    "clf.fit(X_train, y_train)\n",
    "y_pred = clf.predict(X_test)\n",
    "itca_score = itca(y_test, y_pred, no_combination)\n",
    "print(\"ITCA score: \", itca_score)\n",
    "print(\"Accuracy score: \", clf.score(X_test, y_test))"
   ]
  },
  {
   "cell_type": "code",
   "execution_count": 6,
   "id": "32c5a4ac",
   "metadata": {},
   "outputs": [
    {
     "name": "stdout",
     "output_type": "stream",
     "text": [
      "{0: 0, 1: 1, 2: 2, 3: 2}|ITAC=0.9546|\n"
     ]
    }
   ],
   "source": [
    "from itca import GreedySearch\n",
    "clf = LinearDiscriminantAnalysis()\n",
    "gs = GreedySearch(class_type='nominal')\n",
    "gs.search(sim_data.X, y_observed, clf, verbose=False, early_stop=True,  kfolds=5)\n",
    "print(gs.selected)"
   ]
  }
 ],
 "metadata": {
  "kernelspec": {
   "display_name": "Python 3 (ipykernel)",
   "language": "python",
   "name": "python3"
  },
  "language_info": {
   "codemirror_mode": {
    "name": "ipython",
    "version": 3
   },
   "file_extension": ".py",
   "mimetype": "text/x-python",
   "name": "python",
   "nbconvert_exporter": "python",
   "pygments_lexer": "ipython3",
   "version": "3.11.3"
  }
 },
 "nbformat": 4,
 "nbformat_minor": 5
}
